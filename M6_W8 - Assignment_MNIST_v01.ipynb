{
 "cells": [
  {
   "cell_type": "markdown",
   "metadata": {},
   "source": [
    "# M6 - W8 - Assignment: MNIST Deep learning for Handwriting Numbers"
   ]
  },
  {
   "cell_type": "markdown",
   "metadata": {},
   "source": [
    "Deep learning is a subfield of machine learning, growing in popularity and power. The combination of large amount of available unstructured data (images, text, video, audio) and computing power enabled the development and flourishing of deep learning. Nowadays, it is used to solve complex problems and automate tasks, which are too time consuming for humans.\n",
    "\n",
    "The MNIST dataset is a very famous dataset used to test and benchmark new deep learning architectures and models. It contains images of handwritten digits (from 0 to 9). It consists of a training and test sets of features and labels.\n",
    "The mnist_train.csv file contains the 60,000 training examples and labels. The mnist_test.csv contains 10,000 test examples and labels. Each row consists of 785 values: the first value is the label (a number from 0 to 9) and the remaining 784 values are the pixel values (a number from 0 to 255).\n",
    "\n",
    "\n",
    "- __Question 1:__ Your first task is to use Keras and develop a model that correctly detects a handwritten digit. Though you can technically solve that task with any type of a supervised model, please use neural networks. You are free to experiment with the architecture of the model. Note that this is a multi-class classification task. \n",
    "- __Question 2:__ Please evaluate your model properly and interpret its performance.\n",
    "- __Question 3:__ Submit your solution in a Jupyter notebook and a link to a GitHub repo where you have also uploaded your code.\n"
   ]
  },
  {
   "cell_type": "code",
   "execution_count": 98,
   "metadata": {},
   "outputs": [],
   "source": [
    "# First things first, let's import the necessary packages:\n",
    "import pandas as pd\n",
    "import numpy as np\n",
    "import matplotlib.pyplot as plt\n",
    "import seaborn as sns\n",
    "import random\n",
    "\n",
    "import keras\n",
    "import tensorflow as tf\n",
    "\n",
    "# import of layers\n",
    "from keras.layers import Dense, Dropout, Flatten, Conv2D, MaxPooling2D, Reshape\n",
    "from keras.models import Sequential, load_model\n",
    "from keras.utils.np_utils import to_categorical\n",
    "\n",
    "\n",
    "# Old imports:\n",
    "# import seaborn as sns\n",
    "# import matplotlib.pyplot as plt\n",
    "# from sklearn.model_selection import train_test_split, cross_val_score, GridSearchCV\n",
    "# from sklearn.tree import DecisionTreeClassifier\n",
    "# from sklearn.ensemble import RandomForestClassifier\n",
    "# from sklearn.ensemble import RandomForestRegressor\n",
    "# from sklearn.linear_model import LogisticRegression\n",
    "# from sklearn.pipeline import Pipeline\n",
    "# from xgboost import XGBClassifier\n",
    "# from catboost import CatBoostClassifier # might not needed since we dont have categorical values\n",
    "# from sklearn.metrics import precision_recall_fscore_support, fbeta_score, make_scorer, classification_report, confusion_matrix"
   ]
  },
  {
   "cell_type": "markdown",
   "metadata": {},
   "source": [
    "____\n",
    "### Question 1: Use Keras and develop a model that correctly detects a handwritten digit\n",
    "#### 1.1: Setup the data structure and inspect the data"
   ]
  },
  {
   "cell_type": "code",
   "execution_count": 2,
   "metadata": {},
   "outputs": [],
   "source": [
    "# Let's first import the csv and take a look at it\n",
    "df = pd.read_csv(\"mnist_train.csv\")"
   ]
  },
  {
   "cell_type": "code",
   "execution_count": 3,
   "metadata": {},
   "outputs": [
    {
     "data": {
      "text/html": [
       "<div>\n",
       "<style scoped>\n",
       "    .dataframe tbody tr th:only-of-type {\n",
       "        vertical-align: middle;\n",
       "    }\n",
       "\n",
       "    .dataframe tbody tr th {\n",
       "        vertical-align: top;\n",
       "    }\n",
       "\n",
       "    .dataframe thead th {\n",
       "        text-align: right;\n",
       "    }\n",
       "</style>\n",
       "<table border=\"1\" class=\"dataframe\">\n",
       "  <thead>\n",
       "    <tr style=\"text-align: right;\">\n",
       "      <th></th>\n",
       "      <th>1x1</th>\n",
       "      <th>1x2</th>\n",
       "      <th>1x3</th>\n",
       "      <th>1x4</th>\n",
       "      <th>1x5</th>\n",
       "      <th>1x6</th>\n",
       "      <th>1x7</th>\n",
       "      <th>1x8</th>\n",
       "      <th>1x9</th>\n",
       "      <th>1x10</th>\n",
       "      <th>...</th>\n",
       "      <th>28x19</th>\n",
       "      <th>28x20</th>\n",
       "      <th>28x21</th>\n",
       "      <th>28x22</th>\n",
       "      <th>28x23</th>\n",
       "      <th>28x24</th>\n",
       "      <th>28x25</th>\n",
       "      <th>28x26</th>\n",
       "      <th>28x27</th>\n",
       "      <th>28x28</th>\n",
       "    </tr>\n",
       "  </thead>\n",
       "  <tbody>\n",
       "    <tr>\n",
       "      <th>0</th>\n",
       "      <td>0</td>\n",
       "      <td>0</td>\n",
       "      <td>0</td>\n",
       "      <td>0</td>\n",
       "      <td>0</td>\n",
       "      <td>0</td>\n",
       "      <td>0</td>\n",
       "      <td>0</td>\n",
       "      <td>0</td>\n",
       "      <td>0</td>\n",
       "      <td>...</td>\n",
       "      <td>0</td>\n",
       "      <td>0</td>\n",
       "      <td>0</td>\n",
       "      <td>0</td>\n",
       "      <td>0</td>\n",
       "      <td>0</td>\n",
       "      <td>0</td>\n",
       "      <td>0</td>\n",
       "      <td>0</td>\n",
       "      <td>0</td>\n",
       "    </tr>\n",
       "    <tr>\n",
       "      <th>1</th>\n",
       "      <td>0</td>\n",
       "      <td>0</td>\n",
       "      <td>0</td>\n",
       "      <td>0</td>\n",
       "      <td>0</td>\n",
       "      <td>0</td>\n",
       "      <td>0</td>\n",
       "      <td>0</td>\n",
       "      <td>0</td>\n",
       "      <td>0</td>\n",
       "      <td>...</td>\n",
       "      <td>0</td>\n",
       "      <td>0</td>\n",
       "      <td>0</td>\n",
       "      <td>0</td>\n",
       "      <td>0</td>\n",
       "      <td>0</td>\n",
       "      <td>0</td>\n",
       "      <td>0</td>\n",
       "      <td>0</td>\n",
       "      <td>0</td>\n",
       "    </tr>\n",
       "    <tr>\n",
       "      <th>2</th>\n",
       "      <td>0</td>\n",
       "      <td>0</td>\n",
       "      <td>0</td>\n",
       "      <td>0</td>\n",
       "      <td>0</td>\n",
       "      <td>0</td>\n",
       "      <td>0</td>\n",
       "      <td>0</td>\n",
       "      <td>0</td>\n",
       "      <td>0</td>\n",
       "      <td>...</td>\n",
       "      <td>0</td>\n",
       "      <td>0</td>\n",
       "      <td>0</td>\n",
       "      <td>0</td>\n",
       "      <td>0</td>\n",
       "      <td>0</td>\n",
       "      <td>0</td>\n",
       "      <td>0</td>\n",
       "      <td>0</td>\n",
       "      <td>0</td>\n",
       "    </tr>\n",
       "    <tr>\n",
       "      <th>3</th>\n",
       "      <td>0</td>\n",
       "      <td>0</td>\n",
       "      <td>0</td>\n",
       "      <td>0</td>\n",
       "      <td>0</td>\n",
       "      <td>0</td>\n",
       "      <td>0</td>\n",
       "      <td>0</td>\n",
       "      <td>0</td>\n",
       "      <td>0</td>\n",
       "      <td>...</td>\n",
       "      <td>0</td>\n",
       "      <td>0</td>\n",
       "      <td>0</td>\n",
       "      <td>0</td>\n",
       "      <td>0</td>\n",
       "      <td>0</td>\n",
       "      <td>0</td>\n",
       "      <td>0</td>\n",
       "      <td>0</td>\n",
       "      <td>0</td>\n",
       "    </tr>\n",
       "    <tr>\n",
       "      <th>4</th>\n",
       "      <td>0</td>\n",
       "      <td>0</td>\n",
       "      <td>0</td>\n",
       "      <td>0</td>\n",
       "      <td>0</td>\n",
       "      <td>0</td>\n",
       "      <td>0</td>\n",
       "      <td>0</td>\n",
       "      <td>0</td>\n",
       "      <td>0</td>\n",
       "      <td>...</td>\n",
       "      <td>0</td>\n",
       "      <td>0</td>\n",
       "      <td>0</td>\n",
       "      <td>0</td>\n",
       "      <td>0</td>\n",
       "      <td>0</td>\n",
       "      <td>0</td>\n",
       "      <td>0</td>\n",
       "      <td>0</td>\n",
       "      <td>0</td>\n",
       "    </tr>\n",
       "    <tr>\n",
       "      <th>...</th>\n",
       "      <td>...</td>\n",
       "      <td>...</td>\n",
       "      <td>...</td>\n",
       "      <td>...</td>\n",
       "      <td>...</td>\n",
       "      <td>...</td>\n",
       "      <td>...</td>\n",
       "      <td>...</td>\n",
       "      <td>...</td>\n",
       "      <td>...</td>\n",
       "      <td>...</td>\n",
       "      <td>...</td>\n",
       "      <td>...</td>\n",
       "      <td>...</td>\n",
       "      <td>...</td>\n",
       "      <td>...</td>\n",
       "      <td>...</td>\n",
       "      <td>...</td>\n",
       "      <td>...</td>\n",
       "      <td>...</td>\n",
       "      <td>...</td>\n",
       "    </tr>\n",
       "    <tr>\n",
       "      <th>59995</th>\n",
       "      <td>0</td>\n",
       "      <td>0</td>\n",
       "      <td>0</td>\n",
       "      <td>0</td>\n",
       "      <td>0</td>\n",
       "      <td>0</td>\n",
       "      <td>0</td>\n",
       "      <td>0</td>\n",
       "      <td>0</td>\n",
       "      <td>0</td>\n",
       "      <td>...</td>\n",
       "      <td>0</td>\n",
       "      <td>0</td>\n",
       "      <td>0</td>\n",
       "      <td>0</td>\n",
       "      <td>0</td>\n",
       "      <td>0</td>\n",
       "      <td>0</td>\n",
       "      <td>0</td>\n",
       "      <td>0</td>\n",
       "      <td>0</td>\n",
       "    </tr>\n",
       "    <tr>\n",
       "      <th>59996</th>\n",
       "      <td>0</td>\n",
       "      <td>0</td>\n",
       "      <td>0</td>\n",
       "      <td>0</td>\n",
       "      <td>0</td>\n",
       "      <td>0</td>\n",
       "      <td>0</td>\n",
       "      <td>0</td>\n",
       "      <td>0</td>\n",
       "      <td>0</td>\n",
       "      <td>...</td>\n",
       "      <td>0</td>\n",
       "      <td>0</td>\n",
       "      <td>0</td>\n",
       "      <td>0</td>\n",
       "      <td>0</td>\n",
       "      <td>0</td>\n",
       "      <td>0</td>\n",
       "      <td>0</td>\n",
       "      <td>0</td>\n",
       "      <td>0</td>\n",
       "    </tr>\n",
       "    <tr>\n",
       "      <th>59997</th>\n",
       "      <td>0</td>\n",
       "      <td>0</td>\n",
       "      <td>0</td>\n",
       "      <td>0</td>\n",
       "      <td>0</td>\n",
       "      <td>0</td>\n",
       "      <td>0</td>\n",
       "      <td>0</td>\n",
       "      <td>0</td>\n",
       "      <td>0</td>\n",
       "      <td>...</td>\n",
       "      <td>0</td>\n",
       "      <td>0</td>\n",
       "      <td>0</td>\n",
       "      <td>0</td>\n",
       "      <td>0</td>\n",
       "      <td>0</td>\n",
       "      <td>0</td>\n",
       "      <td>0</td>\n",
       "      <td>0</td>\n",
       "      <td>0</td>\n",
       "    </tr>\n",
       "    <tr>\n",
       "      <th>59998</th>\n",
       "      <td>0</td>\n",
       "      <td>0</td>\n",
       "      <td>0</td>\n",
       "      <td>0</td>\n",
       "      <td>0</td>\n",
       "      <td>0</td>\n",
       "      <td>0</td>\n",
       "      <td>0</td>\n",
       "      <td>0</td>\n",
       "      <td>0</td>\n",
       "      <td>...</td>\n",
       "      <td>0</td>\n",
       "      <td>0</td>\n",
       "      <td>0</td>\n",
       "      <td>0</td>\n",
       "      <td>0</td>\n",
       "      <td>0</td>\n",
       "      <td>0</td>\n",
       "      <td>0</td>\n",
       "      <td>0</td>\n",
       "      <td>0</td>\n",
       "    </tr>\n",
       "    <tr>\n",
       "      <th>59999</th>\n",
       "      <td>0</td>\n",
       "      <td>0</td>\n",
       "      <td>0</td>\n",
       "      <td>0</td>\n",
       "      <td>0</td>\n",
       "      <td>0</td>\n",
       "      <td>0</td>\n",
       "      <td>0</td>\n",
       "      <td>0</td>\n",
       "      <td>0</td>\n",
       "      <td>...</td>\n",
       "      <td>0</td>\n",
       "      <td>0</td>\n",
       "      <td>0</td>\n",
       "      <td>0</td>\n",
       "      <td>0</td>\n",
       "      <td>0</td>\n",
       "      <td>0</td>\n",
       "      <td>0</td>\n",
       "      <td>0</td>\n",
       "      <td>0</td>\n",
       "    </tr>\n",
       "  </tbody>\n",
       "</table>\n",
       "<p>60000 rows × 784 columns</p>\n",
       "</div>"
      ],
      "text/plain": [
       "       1x1  1x2  1x3  1x4  1x5  1x6  1x7  1x8  1x9  1x10  ...  28x19  28x20  \\\n",
       "0        0    0    0    0    0    0    0    0    0     0  ...      0      0   \n",
       "1        0    0    0    0    0    0    0    0    0     0  ...      0      0   \n",
       "2        0    0    0    0    0    0    0    0    0     0  ...      0      0   \n",
       "3        0    0    0    0    0    0    0    0    0     0  ...      0      0   \n",
       "4        0    0    0    0    0    0    0    0    0     0  ...      0      0   \n",
       "...    ...  ...  ...  ...  ...  ...  ...  ...  ...   ...  ...    ...    ...   \n",
       "59995    0    0    0    0    0    0    0    0    0     0  ...      0      0   \n",
       "59996    0    0    0    0    0    0    0    0    0     0  ...      0      0   \n",
       "59997    0    0    0    0    0    0    0    0    0     0  ...      0      0   \n",
       "59998    0    0    0    0    0    0    0    0    0     0  ...      0      0   \n",
       "59999    0    0    0    0    0    0    0    0    0     0  ...      0      0   \n",
       "\n",
       "       28x21  28x22  28x23  28x24  28x25  28x26  28x27  28x28  \n",
       "0          0      0      0      0      0      0      0      0  \n",
       "1          0      0      0      0      0      0      0      0  \n",
       "2          0      0      0      0      0      0      0      0  \n",
       "3          0      0      0      0      0      0      0      0  \n",
       "4          0      0      0      0      0      0      0      0  \n",
       "...      ...    ...    ...    ...    ...    ...    ...    ...  \n",
       "59995      0      0      0      0      0      0      0      0  \n",
       "59996      0      0      0      0      0      0      0      0  \n",
       "59997      0      0      0      0      0      0      0      0  \n",
       "59998      0      0      0      0      0      0      0      0  \n",
       "59999      0      0      0      0      0      0      0      0  \n",
       "\n",
       "[60000 rows x 784 columns]"
      ]
     },
     "execution_count": 3,
     "metadata": {},
     "output_type": "execute_result"
    }
   ],
   "source": [
    "# Split the data into a target and \"predictors\"\n",
    "target = to_categorical(df[\"label\"])\n",
    "target_column = df[\"label\"]\n",
    "predictors = df.iloc[:,1:] #.values()\n",
    "predictors"
   ]
  },
  {
   "cell_type": "code",
   "execution_count": 4,
   "metadata": {},
   "outputs": [
    {
     "data": {
      "image/png": "[encoded data removed]",
      "text/plain": [
       "<Figure size 288x288 with 1 Axes>"
      ]
     },
     "metadata": {
      "needs_background": "light"
     },
     "output_type": "display_data"
    },
    {
     "data": {
      "image/png": "[encoded data removed]",
      "text/plain": [
       "<Figure size 288x288 with 1 Axes>"
      ]
     },
     "metadata": {
      "needs_background": "light"
     },
     "output_type": "display_data"
    },
    {
     "data": {
      "image/png": "[encoded data removed]",
      "text/plain": [
       "<Figure size 288x288 with 1 Axes>"
      ]
     },
     "metadata": {
      "needs_background": "light"
     },
     "output_type": "display_data"
    }
   ],
   "source": [
    "# Let's visualize the labels and retransform the columsn to pictures\n",
    "\n",
    "for i in list(range(2,5)):\n",
    "    # Initialize lists and counter\n",
    "    nested_list = []\n",
    "    batch = []\n",
    "    j = 0\n",
    "    \n",
    "    # Run through the columns and store every batch of 28 numbers per row\n",
    "    for column in predictors.iloc[i,:]:\n",
    "        batch.append(column)\n",
    "        j += 1\n",
    "        if j == 28:\n",
    "            nested_list.append(batch)\n",
    "            j = 0\n",
    "            batch = []\n",
    "    \n",
    "    # Visualize and title\n",
    "    plt.matshow(nested_list)\n",
    "    title = \"The below image is a handwritten: \"\n",
    "    plt.title(title + str(target_column[i]))"
   ]
  },
  {
   "cell_type": "markdown",
   "metadata": {},
   "source": [
    "#### 1.2: Specify architecture"
   ]
  },
  {
   "cell_type": "code",
   "execution_count": 5,
   "metadata": {},
   "outputs": [],
   "source": [
    "# Set up the model: model\n",
    "model = Sequential()\n",
    "\n",
    "# Save the number of columns in predictors: n_cols\n",
    "n_cols = predictors.shape[1]\n",
    "n_rows = predictors.shape[0]\n",
    "\n",
    "# Add the first layer\n",
    "model.add(Dense(100, activation='relu', input_shape=(n_cols,)))\n",
    "\n",
    "# Add the second layer\n",
    "model.add(Dense(100, activation='relu'))\n",
    "\n",
    "# Add the second layer\n",
    "model.add(Dense(100, activation='relu'))\n",
    "\n",
    "# Add the output layer\n",
    "model.add(Dense(10, activation = \"softmax\"))"
   ]
  },
  {
   "cell_type": "markdown",
   "metadata": {},
   "source": [
    "#### 1.3: Compile the model"
   ]
  },
  {
   "cell_type": "code",
   "execution_count": 6,
   "metadata": {},
   "outputs": [
    {
     "name": "stdout",
     "output_type": "stream",
     "text": [
      "Loss function: categorical_crossentropy\n"
     ]
    }
   ],
   "source": [
    "# Compile the model\n",
    "model.compile(optimizer=\"adam\", loss=\"categorical_crossentropy\", metrics=[\"accuracy\"])\n",
    "\n",
    "# Verify that model contains information from compiling\n",
    "print(\"Loss function: \" + model.loss)"
   ]
  },
  {
   "cell_type": "markdown",
   "metadata": {},
   "source": [
    "#### 1.4: Fit & Save/Store Model"
   ]
  },
  {
   "cell_type": "code",
   "execution_count": 7,
   "metadata": {},
   "outputs": [
    {
     "name": "stdout",
     "output_type": "stream",
     "text": [
      "Epoch 1/40\n",
      "1500/1500 [==============================] - 3s 2ms/step - loss: 1.1809 - accuracy: 0.8519 - val_loss: 0.3648 - val_accuracy: 0.9084\n",
      "Epoch 2/40\n",
      "1500/1500 [==============================] - 3s 2ms/step - loss: 0.2806 - accuracy: 0.9265 - val_loss: 0.2389 - val_accuracy: 0.9383\n",
      "Epoch 3/40\n",
      "1500/1500 [==============================] - 3s 2ms/step - loss: 0.1995 - accuracy: 0.9435 - val_loss: 0.2517 - val_accuracy: 0.9317\n",
      "Epoch 4/40\n",
      "1500/1500 [==============================] - 2s 2ms/step - loss: 0.1673 - accuracy: 0.9524 - val_loss: 0.2092 - val_accuracy: 0.9454\n",
      "Epoch 5/40\n",
      "1500/1500 [==============================] - 2s 2ms/step - loss: 0.1452 - accuracy: 0.9586 - val_loss: 0.1544 - val_accuracy: 0.9571\n",
      "Epoch 6/40\n",
      "1500/1500 [==============================] - 2s 2ms/step - loss: 0.1230 - accuracy: 0.9654 - val_loss: 0.1733 - val_accuracy: 0.9573\n",
      "Epoch 7/40\n",
      "1500/1500 [==============================] - 3s 2ms/step - loss: 0.1099 - accuracy: 0.9675 - val_loss: 0.1810 - val_accuracy: 0.9545\n",
      "Epoch 8/40\n",
      "1500/1500 [==============================] - 3s 2ms/step - loss: 0.0978 - accuracy: 0.9710 - val_loss: 0.1757 - val_accuracy: 0.9575\n",
      "Epoch 9/40\n",
      "1500/1500 [==============================] - 3s 2ms/step - loss: 0.0946 - accuracy: 0.9725 - val_loss: 0.1461 - val_accuracy: 0.9629\n",
      "Epoch 10/40\n",
      "1500/1500 [==============================] - 2s 2ms/step - loss: 0.0794 - accuracy: 0.9776 - val_loss: 0.1674 - val_accuracy: 0.9623\n",
      "Epoch 11/40\n",
      "1500/1500 [==============================] - 3s 2ms/step - loss: 0.0787 - accuracy: 0.9771 - val_loss: 0.1843 - val_accuracy: 0.9597\n",
      "Epoch 12/40\n",
      "1500/1500 [==============================] - 3s 2ms/step - loss: 0.0767 - accuracy: 0.9780 - val_loss: 0.1720 - val_accuracy: 0.9600\n",
      "Epoch 13/40\n",
      "1500/1500 [==============================] - 3s 2ms/step - loss: 0.0677 - accuracy: 0.9804 - val_loss: 0.1434 - val_accuracy: 0.9680\n",
      "Epoch 14/40\n",
      "1500/1500 [==============================] - 3s 2ms/step - loss: 0.0628 - accuracy: 0.9822 - val_loss: 0.1776 - val_accuracy: 0.9631\n",
      "Epoch 15/40\n",
      "1500/1500 [==============================] - 3s 2ms/step - loss: 0.0616 - accuracy: 0.9835 - val_loss: 0.1902 - val_accuracy: 0.9590\n",
      "Epoch 16/40\n",
      "1500/1500 [==============================] - 3s 2ms/step - loss: 0.0555 - accuracy: 0.9843 - val_loss: 0.1622 - val_accuracy: 0.9663\n",
      "Epoch 17/40\n",
      "1500/1500 [==============================] - 3s 2ms/step - loss: 0.0555 - accuracy: 0.9837 - val_loss: 0.1583 - val_accuracy: 0.9677\n",
      "Epoch 18/40\n",
      "1500/1500 [==============================] - 2s 2ms/step - loss: 0.0579 - accuracy: 0.9846 - val_loss: 0.1878 - val_accuracy: 0.9690\n",
      "Epoch 19/40\n",
      "1500/1500 [==============================] - 2s 2ms/step - loss: 0.0544 - accuracy: 0.9850 - val_loss: 0.1939 - val_accuracy: 0.9670\n",
      "Epoch 20/40\n",
      "1500/1500 [==============================] - 2s 2ms/step - loss: 0.0572 - accuracy: 0.9853 - val_loss: 0.1840 - val_accuracy: 0.9678\n",
      "Epoch 21/40\n",
      "1500/1500 [==============================] - 3s 2ms/step - loss: 0.0482 - accuracy: 0.9877 - val_loss: 0.1604 - val_accuracy: 0.9689\n",
      "Epoch 22/40\n",
      "1500/1500 [==============================] - 2s 2ms/step - loss: 0.0434 - accuracy: 0.9883 - val_loss: 0.1732 - val_accuracy: 0.9678\n",
      "Epoch 23/40\n",
      "1500/1500 [==============================] - 2s 2ms/step - loss: 0.0455 - accuracy: 0.9877 - val_loss: 0.1994 - val_accuracy: 0.9640\n",
      "Epoch 24/40\n",
      "1500/1500 [==============================] - 2s 2ms/step - loss: 0.0485 - accuracy: 0.9877 - val_loss: 0.1891 - val_accuracy: 0.9712\n",
      "Epoch 25/40\n",
      "1500/1500 [==============================] - 2s 2ms/step - loss: 0.0416 - accuracy: 0.9889 - val_loss: 0.1728 - val_accuracy: 0.9703\n",
      "Epoch 26/40\n",
      "1500/1500 [==============================] - 2s 2ms/step - loss: 0.0477 - accuracy: 0.9878 - val_loss: 0.2401 - val_accuracy: 0.9694\n",
      "Epoch 27/40\n",
      "1500/1500 [==============================] - 3s 2ms/step - loss: 0.0350 - accuracy: 0.9904 - val_loss: 0.2266 - val_accuracy: 0.9697\n",
      "Epoch 28/40\n",
      "1500/1500 [==============================] - 3s 2ms/step - loss: 0.0453 - accuracy: 0.9887 - val_loss: 0.2341 - val_accuracy: 0.9702\n",
      "Epoch 29/40\n",
      "1500/1500 [==============================] - 2s 2ms/step - loss: 0.0399 - accuracy: 0.9901 - val_loss: 0.2221 - val_accuracy: 0.9683\n",
      "Epoch 30/40\n",
      "1500/1500 [==============================] - 3s 2ms/step - loss: 0.0368 - accuracy: 0.9912 - val_loss: 0.2070 - val_accuracy: 0.9690\n",
      "Epoch 31/40\n",
      "1500/1500 [==============================] - 3s 2ms/step - loss: 0.0330 - accuracy: 0.9920 - val_loss: 0.2345 - val_accuracy: 0.9697\n",
      "Epoch 32/40\n",
      "1500/1500 [==============================] - 3s 2ms/step - loss: 0.0365 - accuracy: 0.9913 - val_loss: 0.1901 - val_accuracy: 0.9690\n",
      "Epoch 33/40\n",
      "1500/1500 [==============================] - 3s 2ms/step - loss: 0.0423 - accuracy: 0.9903 - val_loss: 0.2352 - val_accuracy: 0.9677\n",
      "Epoch 34/40\n",
      "1500/1500 [==============================] - 3s 2ms/step - loss: 0.0303 - accuracy: 0.9924 - val_loss: 0.1968 - val_accuracy: 0.9718\n",
      "Epoch 35/40\n",
      "1500/1500 [==============================] - 3s 2ms/step - loss: 0.0290 - accuracy: 0.9925 - val_loss: 0.2805 - val_accuracy: 0.9649\n",
      "Epoch 36/40\n",
      "1500/1500 [==============================] - 3s 2ms/step - loss: 0.0364 - accuracy: 0.9916 - val_loss: 0.2691 - val_accuracy: 0.9672\n",
      "Epoch 37/40\n",
      "1500/1500 [==============================] - 3s 2ms/step - loss: 0.0339 - accuracy: 0.9913 - val_loss: 0.2536 - val_accuracy: 0.9702\n",
      "Epoch 38/40\n",
      "1500/1500 [==============================] - 3s 2ms/step - loss: 0.0374 - accuracy: 0.9915 - val_loss: 0.2438 - val_accuracy: 0.9685\n",
      "Epoch 39/40\n",
      "1500/1500 [==============================] - 3s 2ms/step - loss: 0.0308 - accuracy: 0.9926 - val_loss: 0.2459 - val_accuracy: 0.9674\n",
      "Epoch 40/40\n",
      "1500/1500 [==============================] - 3s 2ms/step - loss: 0.0324 - accuracy: 0.9927 - val_loss: 0.2260 - val_accuracy: 0.9718\n"
     ]
    },
    {
     "data": {
      "text/plain": [
       "<tensorflow.python.keras.callbacks.History at 0x22adbe48430>"
      ]
     },
     "execution_count": 7,
     "metadata": {},
     "output_type": "execute_result"
    }
   ],
   "source": [
    "# Fit the model\n",
    "model_outcome = model.fit(predictors, target, epochs = 40, validation_split = 0.2)\n",
    "model_outcome"
   ]
  },
  {
   "cell_type": "code",
   "execution_count": 8,
   "metadata": {},
   "outputs": [],
   "source": [
    "# Let's build a second model with a little different parameters and layers\n",
    "\n",
    "img_rows, img_cols = 28, 28 \n",
    "input_shape = (img_rows, img_cols)\n",
    "\n",
    "# Save the number of columns in predictors: n_cols\n",
    "n_cols = predictors.shape[1]\n",
    "\n",
    "\n",
    "# Set up the model: model\n",
    "model_alt = Sequential()\n",
    "\n",
    "# Add the first layer\n",
    "#model_alt.add(Conv2D(32, kernel_size = 1, activation = 'relu', input_shape = (n_rows,28,28)))\n",
    "\n",
    "# Add the second layer\n",
    "#model_alt.add(Conv2D(64, kernel_size = 1, activation = 'relu'))\n",
    "\n",
    "# Add another layer\n",
    "# model_alt.add(MaxPooling2D(pool_size = (1, 3)))\n",
    "\n",
    "# Add another layer\n",
    "#model_alt.add(Dropout(0.25)) \n",
    "\n",
    "# Add another layer\n",
    "#model_alt.add(Flatten())\n",
    "\n",
    "# Add another layer\n",
    "model_alt.add(Dense(128, activation = 'relu')) \n",
    "\n",
    "# Add another layer\n",
    "model_alt.add(Dropout(0.5)) \n",
    "\n",
    "# Add the output layer\n",
    "model_alt.add(Dense(10, activation = 'softmax'))\n",
    "\n",
    "# Compile the model\n",
    "model_alt.compile(optimizer=\"adam\", loss=\"categorical_crossentropy\", metrics=[\"accuracy\"])"
   ]
  },
  {
   "cell_type": "code",
   "execution_count": 9,
   "metadata": {},
   "outputs": [
    {
     "name": "stdout",
     "output_type": "stream",
     "text": [
      "Epoch 1/40\n",
      "1500/1500 [==============================] - 2s 2ms/step - loss: 3.7834 - accuracy: 0.4595 - val_loss: 0.9680 - val_accuracy: 0.7084\n",
      "Epoch 2/40\n",
      "1500/1500 [==============================] - 2s 2ms/step - loss: 1.3254 - accuracy: 0.5781 - val_loss: 0.7743 - val_accuracy: 0.7865\n",
      "Epoch 3/40\n",
      "1500/1500 [==============================] - 2s 2ms/step - loss: 1.1315 - accuracy: 0.6480 - val_loss: 0.6554 - val_accuracy: 0.8190\n",
      "Epoch 4/40\n",
      "1500/1500 [==============================] - 2s 2ms/step - loss: 0.9952 - accuracy: 0.7104 - val_loss: 0.4642 - val_accuracy: 0.8945\n",
      "Epoch 5/40\n",
      "1500/1500 [==============================] - 2s 1ms/step - loss: 0.8643 - accuracy: 0.7514 - val_loss: 0.4620 - val_accuracy: 0.8902\n",
      "Epoch 6/40\n",
      "1500/1500 [==============================] - 2s 1ms/step - loss: 0.8073 - accuracy: 0.7749 - val_loss: 0.4727 - val_accuracy: 0.9062\n",
      "Epoch 7/40\n",
      "1500/1500 [==============================] - 2s 2ms/step - loss: 0.7578 - accuracy: 0.7889 - val_loss: 0.3868 - val_accuracy: 0.9205\n",
      "Epoch 8/40\n",
      "1500/1500 [==============================] - 2s 2ms/step - loss: 0.7237 - accuracy: 0.7990 - val_loss: 0.3871 - val_accuracy: 0.9267\n",
      "Epoch 9/40\n",
      "1500/1500 [==============================] - 2s 1ms/step - loss: 0.7130 - accuracy: 0.8081 - val_loss: 0.3564 - val_accuracy: 0.9254\n",
      "Epoch 10/40\n",
      "1500/1500 [==============================] - 2s 1ms/step - loss: 0.6888 - accuracy: 0.8115 - val_loss: 0.4376 - val_accuracy: 0.9214\n",
      "Epoch 11/40\n",
      "1500/1500 [==============================] - 2s 2ms/step - loss: 0.6797 - accuracy: 0.8150 - val_loss: 0.4010 - val_accuracy: 0.9226\n",
      "Epoch 12/40\n",
      "1500/1500 [==============================] - 2s 2ms/step - loss: 0.6776 - accuracy: 0.8177 - val_loss: 0.3846 - val_accuracy: 0.9240\n",
      "Epoch 13/40\n",
      "1500/1500 [==============================] - 2s 1ms/step - loss: 0.6525 - accuracy: 0.8215 - val_loss: 0.4114 - val_accuracy: 0.9329\n",
      "Epoch 14/40\n",
      "1500/1500 [==============================] - 2s 2ms/step - loss: 0.6496 - accuracy: 0.8226 - val_loss: 0.3538 - val_accuracy: 0.9279\n",
      "Epoch 15/40\n",
      "1500/1500 [==============================] - 2s 1ms/step - loss: 0.6421 - accuracy: 0.8244 - val_loss: 0.3799 - val_accuracy: 0.9325\n",
      "Epoch 16/40\n",
      "1500/1500 [==============================] - 2s 1ms/step - loss: 0.6395 - accuracy: 0.8244 - val_loss: 0.3789 - val_accuracy: 0.9286\n",
      "Epoch 17/40\n",
      "1500/1500 [==============================] - 2s 2ms/step - loss: 0.6343 - accuracy: 0.8249 - val_loss: 0.3572 - val_accuracy: 0.9319\n",
      "Epoch 18/40\n",
      "1500/1500 [==============================] - 2s 2ms/step - loss: 0.6455 - accuracy: 0.8229 - val_loss: 0.3712 - val_accuracy: 0.9247\n",
      "Epoch 19/40\n",
      "1500/1500 [==============================] - 2s 2ms/step - loss: 0.6254 - accuracy: 0.8282 - val_loss: 0.3783 - val_accuracy: 0.9259\n",
      "Epoch 20/40\n",
      "1500/1500 [==============================] - 2s 2ms/step - loss: 0.6184 - accuracy: 0.8312 - val_loss: 0.3681 - val_accuracy: 0.9342\n",
      "Epoch 21/40\n",
      "1500/1500 [==============================] - 3s 2ms/step - loss: 0.6092 - accuracy: 0.8313 - val_loss: 0.3617 - val_accuracy: 0.9269\n",
      "Epoch 22/40\n",
      "1500/1500 [==============================] - 3s 2ms/step - loss: 0.6255 - accuracy: 0.8311 - val_loss: 0.3922 - val_accuracy: 0.9270\n",
      "Epoch 23/40\n",
      "1500/1500 [==============================] - 3s 2ms/step - loss: 0.6096 - accuracy: 0.8315 - val_loss: 0.3688 - val_accuracy: 0.9255\n",
      "Epoch 24/40\n",
      "1500/1500 [==============================] - 3s 2ms/step - loss: 0.6164 - accuracy: 0.8310 - val_loss: 0.3899 - val_accuracy: 0.9274\n",
      "Epoch 25/40\n",
      "1500/1500 [==============================] - 3s 2ms/step - loss: 0.5935 - accuracy: 0.8352 - val_loss: 0.3690 - val_accuracy: 0.9228\n",
      "Epoch 26/40\n",
      "1500/1500 [==============================] - 3s 2ms/step - loss: 0.6112 - accuracy: 0.8328 - val_loss: 0.4233 - val_accuracy: 0.9230\n",
      "Epoch 27/40\n",
      "1500/1500 [==============================] - 2s 1ms/step - loss: 0.6070 - accuracy: 0.8347 - val_loss: 0.3477 - val_accuracy: 0.9283\n",
      "Epoch 28/40\n",
      "1500/1500 [==============================] - 2s 1ms/step - loss: 0.6019 - accuracy: 0.8355 - val_loss: 0.3961 - val_accuracy: 0.9302\n",
      "Epoch 29/40\n",
      "1500/1500 [==============================] - 2s 2ms/step - loss: 0.5887 - accuracy: 0.8376 - val_loss: 0.4667 - val_accuracy: 0.9254\n",
      "Epoch 30/40\n",
      "1500/1500 [==============================] - 2s 2ms/step - loss: 0.5997 - accuracy: 0.8370 - val_loss: 0.3804 - val_accuracy: 0.9321\n",
      "Epoch 31/40\n",
      "1500/1500 [==============================] - 2s 1ms/step - loss: 0.5738 - accuracy: 0.8415 - val_loss: 0.4102 - val_accuracy: 0.9298\n",
      "Epoch 32/40\n",
      "1500/1500 [==============================] - 2s 2ms/step - loss: 0.5942 - accuracy: 0.8400 - val_loss: 0.4280 - val_accuracy: 0.9349\n",
      "Epoch 33/40\n",
      "1500/1500 [==============================] - 2s 2ms/step - loss: 0.5921 - accuracy: 0.8402 - val_loss: 0.4070 - val_accuracy: 0.9268\n",
      "Epoch 34/40\n",
      "1500/1500 [==============================] - 2s 2ms/step - loss: 0.5902 - accuracy: 0.8409 - val_loss: 0.4286 - val_accuracy: 0.9269\n",
      "Epoch 35/40\n",
      "1500/1500 [==============================] - 2s 2ms/step - loss: 0.5828 - accuracy: 0.8414 - val_loss: 0.4400 - val_accuracy: 0.9274\n",
      "Epoch 36/40\n",
      "1500/1500 [==============================] - 2s 2ms/step - loss: 0.5803 - accuracy: 0.8392 - val_loss: 0.4147 - val_accuracy: 0.9268\n",
      "Epoch 37/40\n",
      "1500/1500 [==============================] - 2s 2ms/step - loss: 0.5843 - accuracy: 0.8410 - val_loss: 0.4174 - val_accuracy: 0.9285\n",
      "Epoch 38/40\n",
      "1500/1500 [==============================] - 2s 2ms/step - loss: 0.5794 - accuracy: 0.8398 - val_loss: 0.4492 - val_accuracy: 0.9262\n",
      "Epoch 39/40\n",
      "1500/1500 [==============================] - 2s 1ms/step - loss: 0.5873 - accuracy: 0.8415 - val_loss: 0.4365 - val_accuracy: 0.9267\n",
      "Epoch 40/40\n",
      "1500/1500 [==============================] - 2s 1ms/step - loss: 0.5830 - accuracy: 0.8398 - val_loss: 0.4244 - val_accuracy: 0.9325\n"
     ]
    },
    {
     "data": {
      "text/plain": [
       "<tensorflow.python.keras.callbacks.History at 0x22adcfeea00>"
      ]
     },
     "execution_count": 9,
     "metadata": {},
     "output_type": "execute_result"
    }
   ],
   "source": [
    "# Let's reshape the training data to a 4D-Vector\n",
    "predictors_reshaped = predictors.copy()\n",
    "predictors_reshaped = predictors_reshaped.values.reshape(60000, 784, 1)\n",
    "#print(predictors_reshaped)\n",
    "\n",
    "# Lets now fit the alternative model\n",
    "model_alt_outcome = model_alt.fit(predictors, target, epochs = 40, validation_split = 0.2)\n",
    "model_alt_outcome"
   ]
  },
  {
   "cell_type": "code",
   "execution_count": 11,
   "metadata": {},
   "outputs": [
    {
     "name": "stdout",
     "output_type": "stream",
     "text": [
      "Model: \"sequential\"\n",
      "_________________________________________________________________\n",
      "Layer (type)                 Output Shape              Param #   \n",
      "=================================================================\n",
      "dense (Dense)                (None, 100)               78500     \n",
      "_________________________________________________________________\n",
      "dense_1 (Dense)              (None, 100)               10100     \n",
      "_________________________________________________________________\n",
      "dense_2 (Dense)              (None, 100)               10100     \n",
      "_________________________________________________________________\n",
      "dense_3 (Dense)              (None, 10)                1010      \n",
      "=================================================================\n",
      "Total params: 99,710\n",
      "Trainable params: 99,710\n",
      "Non-trainable params: 0\n",
      "_________________________________________________________________\n"
     ]
    }
   ],
   "source": [
    "model.summary()"
   ]
  },
  {
   "cell_type": "code",
   "execution_count": 12,
   "metadata": {},
   "outputs": [
    {
     "name": "stdout",
     "output_type": "stream",
     "text": [
      "Model: \"sequential_1\"\n",
      "_________________________________________________________________\n",
      "Layer (type)                 Output Shape              Param #   \n",
      "=================================================================\n",
      "dense_4 (Dense)              (32, 128)                 100480    \n",
      "_________________________________________________________________\n",
      "dropout (Dropout)            (32, 128)                 0         \n",
      "_________________________________________________________________\n",
      "dense_5 (Dense)              (32, 10)                  1290      \n",
      "=================================================================\n",
      "Total params: 101,770\n",
      "Trainable params: 101,770\n",
      "Non-trainable params: 0\n",
      "_________________________________________________________________\n"
     ]
    }
   ],
   "source": [
    "model_alt.summary()"
   ]
  },
  {
   "cell_type": "markdown",
   "metadata": {},
   "source": [
    "#### 1.5: Predict the labels (handwritten numbers)"
   ]
  },
  {
   "cell_type": "code",
   "execution_count": 20,
   "metadata": {},
   "outputs": [
    {
     "data": {
      "text/html": [
       "<div>\n",
       "<style scoped>\n",
       "    .dataframe tbody tr th:only-of-type {\n",
       "        vertical-align: middle;\n",
       "    }\n",
       "\n",
       "    .dataframe tbody tr th {\n",
       "        vertical-align: top;\n",
       "    }\n",
       "\n",
       "    .dataframe thead th {\n",
       "        text-align: right;\n",
       "    }\n",
       "</style>\n",
       "<table border=\"1\" class=\"dataframe\">\n",
       "  <thead>\n",
       "    <tr style=\"text-align: right;\">\n",
       "      <th></th>\n",
       "      <th>1x1</th>\n",
       "      <th>1x2</th>\n",
       "      <th>1x3</th>\n",
       "      <th>1x4</th>\n",
       "      <th>1x5</th>\n",
       "      <th>1x6</th>\n",
       "      <th>1x7</th>\n",
       "      <th>1x8</th>\n",
       "      <th>1x9</th>\n",
       "      <th>1x10</th>\n",
       "      <th>...</th>\n",
       "      <th>28x19</th>\n",
       "      <th>28x20</th>\n",
       "      <th>28x21</th>\n",
       "      <th>28x22</th>\n",
       "      <th>28x23</th>\n",
       "      <th>28x24</th>\n",
       "      <th>28x25</th>\n",
       "      <th>28x26</th>\n",
       "      <th>28x27</th>\n",
       "      <th>28x28</th>\n",
       "    </tr>\n",
       "  </thead>\n",
       "  <tbody>\n",
       "    <tr>\n",
       "      <th>0</th>\n",
       "      <td>0</td>\n",
       "      <td>0</td>\n",
       "      <td>0</td>\n",
       "      <td>0</td>\n",
       "      <td>0</td>\n",
       "      <td>0</td>\n",
       "      <td>0</td>\n",
       "      <td>0</td>\n",
       "      <td>0</td>\n",
       "      <td>0</td>\n",
       "      <td>...</td>\n",
       "      <td>0</td>\n",
       "      <td>0</td>\n",
       "      <td>0</td>\n",
       "      <td>0</td>\n",
       "      <td>0</td>\n",
       "      <td>0</td>\n",
       "      <td>0</td>\n",
       "      <td>0</td>\n",
       "      <td>0</td>\n",
       "      <td>0</td>\n",
       "    </tr>\n",
       "    <tr>\n",
       "      <th>1</th>\n",
       "      <td>0</td>\n",
       "      <td>0</td>\n",
       "      <td>0</td>\n",
       "      <td>0</td>\n",
       "      <td>0</td>\n",
       "      <td>0</td>\n",
       "      <td>0</td>\n",
       "      <td>0</td>\n",
       "      <td>0</td>\n",
       "      <td>0</td>\n",
       "      <td>...</td>\n",
       "      <td>0</td>\n",
       "      <td>0</td>\n",
       "      <td>0</td>\n",
       "      <td>0</td>\n",
       "      <td>0</td>\n",
       "      <td>0</td>\n",
       "      <td>0</td>\n",
       "      <td>0</td>\n",
       "      <td>0</td>\n",
       "      <td>0</td>\n",
       "    </tr>\n",
       "    <tr>\n",
       "      <th>2</th>\n",
       "      <td>0</td>\n",
       "      <td>0</td>\n",
       "      <td>0</td>\n",
       "      <td>0</td>\n",
       "      <td>0</td>\n",
       "      <td>0</td>\n",
       "      <td>0</td>\n",
       "      <td>0</td>\n",
       "      <td>0</td>\n",
       "      <td>0</td>\n",
       "      <td>...</td>\n",
       "      <td>0</td>\n",
       "      <td>0</td>\n",
       "      <td>0</td>\n",
       "      <td>0</td>\n",
       "      <td>0</td>\n",
       "      <td>0</td>\n",
       "      <td>0</td>\n",
       "      <td>0</td>\n",
       "      <td>0</td>\n",
       "      <td>0</td>\n",
       "    </tr>\n",
       "    <tr>\n",
       "      <th>3</th>\n",
       "      <td>0</td>\n",
       "      <td>0</td>\n",
       "      <td>0</td>\n",
       "      <td>0</td>\n",
       "      <td>0</td>\n",
       "      <td>0</td>\n",
       "      <td>0</td>\n",
       "      <td>0</td>\n",
       "      <td>0</td>\n",
       "      <td>0</td>\n",
       "      <td>...</td>\n",
       "      <td>0</td>\n",
       "      <td>0</td>\n",
       "      <td>0</td>\n",
       "      <td>0</td>\n",
       "      <td>0</td>\n",
       "      <td>0</td>\n",
       "      <td>0</td>\n",
       "      <td>0</td>\n",
       "      <td>0</td>\n",
       "      <td>0</td>\n",
       "    </tr>\n",
       "    <tr>\n",
       "      <th>4</th>\n",
       "      <td>0</td>\n",
       "      <td>0</td>\n",
       "      <td>0</td>\n",
       "      <td>0</td>\n",
       "      <td>0</td>\n",
       "      <td>0</td>\n",
       "      <td>0</td>\n",
       "      <td>0</td>\n",
       "      <td>0</td>\n",
       "      <td>0</td>\n",
       "      <td>...</td>\n",
       "      <td>0</td>\n",
       "      <td>0</td>\n",
       "      <td>0</td>\n",
       "      <td>0</td>\n",
       "      <td>0</td>\n",
       "      <td>0</td>\n",
       "      <td>0</td>\n",
       "      <td>0</td>\n",
       "      <td>0</td>\n",
       "      <td>0</td>\n",
       "    </tr>\n",
       "    <tr>\n",
       "      <th>...</th>\n",
       "      <td>...</td>\n",
       "      <td>...</td>\n",
       "      <td>...</td>\n",
       "      <td>...</td>\n",
       "      <td>...</td>\n",
       "      <td>...</td>\n",
       "      <td>...</td>\n",
       "      <td>...</td>\n",
       "      <td>...</td>\n",
       "      <td>...</td>\n",
       "      <td>...</td>\n",
       "      <td>...</td>\n",
       "      <td>...</td>\n",
       "      <td>...</td>\n",
       "      <td>...</td>\n",
       "      <td>...</td>\n",
       "      <td>...</td>\n",
       "      <td>...</td>\n",
       "      <td>...</td>\n",
       "      <td>...</td>\n",
       "      <td>...</td>\n",
       "    </tr>\n",
       "    <tr>\n",
       "      <th>9995</th>\n",
       "      <td>0</td>\n",
       "      <td>0</td>\n",
       "      <td>0</td>\n",
       "      <td>0</td>\n",
       "      <td>0</td>\n",
       "      <td>0</td>\n",
       "      <td>0</td>\n",
       "      <td>0</td>\n",
       "      <td>0</td>\n",
       "      <td>0</td>\n",
       "      <td>...</td>\n",
       "      <td>0</td>\n",
       "      <td>0</td>\n",
       "      <td>0</td>\n",
       "      <td>0</td>\n",
       "      <td>0</td>\n",
       "      <td>0</td>\n",
       "      <td>0</td>\n",
       "      <td>0</td>\n",
       "      <td>0</td>\n",
       "      <td>0</td>\n",
       "    </tr>\n",
       "    <tr>\n",
       "      <th>9996</th>\n",
       "      <td>0</td>\n",
       "      <td>0</td>\n",
       "      <td>0</td>\n",
       "      <td>0</td>\n",
       "      <td>0</td>\n",
       "      <td>0</td>\n",
       "      <td>0</td>\n",
       "      <td>0</td>\n",
       "      <td>0</td>\n",
       "      <td>0</td>\n",
       "      <td>...</td>\n",
       "      <td>0</td>\n",
       "      <td>0</td>\n",
       "      <td>0</td>\n",
       "      <td>0</td>\n",
       "      <td>0</td>\n",
       "      <td>0</td>\n",
       "      <td>0</td>\n",
       "      <td>0</td>\n",
       "      <td>0</td>\n",
       "      <td>0</td>\n",
       "    </tr>\n",
       "    <tr>\n",
       "      <th>9997</th>\n",
       "      <td>0</td>\n",
       "      <td>0</td>\n",
       "      <td>0</td>\n",
       "      <td>0</td>\n",
       "      <td>0</td>\n",
       "      <td>0</td>\n",
       "      <td>0</td>\n",
       "      <td>0</td>\n",
       "      <td>0</td>\n",
       "      <td>0</td>\n",
       "      <td>...</td>\n",
       "      <td>0</td>\n",
       "      <td>0</td>\n",
       "      <td>0</td>\n",
       "      <td>0</td>\n",
       "      <td>0</td>\n",
       "      <td>0</td>\n",
       "      <td>0</td>\n",
       "      <td>0</td>\n",
       "      <td>0</td>\n",
       "      <td>0</td>\n",
       "    </tr>\n",
       "    <tr>\n",
       "      <th>9998</th>\n",
       "      <td>0</td>\n",
       "      <td>0</td>\n",
       "      <td>0</td>\n",
       "      <td>0</td>\n",
       "      <td>0</td>\n",
       "      <td>0</td>\n",
       "      <td>0</td>\n",
       "      <td>0</td>\n",
       "      <td>0</td>\n",
       "      <td>0</td>\n",
       "      <td>...</td>\n",
       "      <td>0</td>\n",
       "      <td>0</td>\n",
       "      <td>0</td>\n",
       "      <td>0</td>\n",
       "      <td>0</td>\n",
       "      <td>0</td>\n",
       "      <td>0</td>\n",
       "      <td>0</td>\n",
       "      <td>0</td>\n",
       "      <td>0</td>\n",
       "    </tr>\n",
       "    <tr>\n",
       "      <th>9999</th>\n",
       "      <td>0</td>\n",
       "      <td>0</td>\n",
       "      <td>0</td>\n",
       "      <td>0</td>\n",
       "      <td>0</td>\n",
       "      <td>0</td>\n",
       "      <td>0</td>\n",
       "      <td>0</td>\n",
       "      <td>0</td>\n",
       "      <td>0</td>\n",
       "      <td>...</td>\n",
       "      <td>0</td>\n",
       "      <td>0</td>\n",
       "      <td>0</td>\n",
       "      <td>0</td>\n",
       "      <td>0</td>\n",
       "      <td>0</td>\n",
       "      <td>0</td>\n",
       "      <td>0</td>\n",
       "      <td>0</td>\n",
       "      <td>0</td>\n",
       "    </tr>\n",
       "  </tbody>\n",
       "</table>\n",
       "<p>10000 rows × 784 columns</p>\n",
       "</div>"
      ],
      "text/plain": [
       "      1x1  1x2  1x3  1x4  1x5  1x6  1x7  1x8  1x9  1x10  ...  28x19  28x20  \\\n",
       "0       0    0    0    0    0    0    0    0    0     0  ...      0      0   \n",
       "1       0    0    0    0    0    0    0    0    0     0  ...      0      0   \n",
       "2       0    0    0    0    0    0    0    0    0     0  ...      0      0   \n",
       "3       0    0    0    0    0    0    0    0    0     0  ...      0      0   \n",
       "4       0    0    0    0    0    0    0    0    0     0  ...      0      0   \n",
       "...   ...  ...  ...  ...  ...  ...  ...  ...  ...   ...  ...    ...    ...   \n",
       "9995    0    0    0    0    0    0    0    0    0     0  ...      0      0   \n",
       "9996    0    0    0    0    0    0    0    0    0     0  ...      0      0   \n",
       "9997    0    0    0    0    0    0    0    0    0     0  ...      0      0   \n",
       "9998    0    0    0    0    0    0    0    0    0     0  ...      0      0   \n",
       "9999    0    0    0    0    0    0    0    0    0     0  ...      0      0   \n",
       "\n",
       "      28x21  28x22  28x23  28x24  28x25  28x26  28x27  28x28  \n",
       "0         0      0      0      0      0      0      0      0  \n",
       "1         0      0      0      0      0      0      0      0  \n",
       "2         0      0      0      0      0      0      0      0  \n",
       "3         0      0      0      0      0      0      0      0  \n",
       "4         0      0      0      0      0      0      0      0  \n",
       "...     ...    ...    ...    ...    ...    ...    ...    ...  \n",
       "9995      0      0      0      0      0      0      0      0  \n",
       "9996      0      0      0      0      0      0      0      0  \n",
       "9997      0      0      0      0      0      0      0      0  \n",
       "9998      0      0      0      0      0      0      0      0  \n",
       "9999      0      0      0      0      0      0      0      0  \n",
       "\n",
       "[10000 rows x 784 columns]"
      ]
     },
     "execution_count": 20,
     "metadata": {},
     "output_type": "execute_result"
    }
   ],
   "source": [
    "# Let's read in the test-data\n",
    "df_test = pd.read_csv(\"mnist_test.csv\")\n",
    "target_test = df_test[\"label\"]\n",
    "predictors_test = df_test.iloc[:,1:]\n",
    "predictors_test"
   ]
  },
  {
   "cell_type": "code",
   "execution_count": 29,
   "metadata": {},
   "outputs": [
    {
     "name": "stdout",
     "output_type": "stream",
     "text": [
      "Shape of the test_data as input: (10000, 784)\n"
     ]
    }
   ],
   "source": [
    "# Let's confirm the correct shape of the test_data for the input\n",
    "print(\"Shape of the test_data as input:\",predictors_test.shape)\n",
    "\n",
    "# Now let's use our model to predict the numbers based on the pixels (columns)\n",
    "target_test_predicted = model.predict(predictors_test)"
   ]
  },
  {
   "cell_type": "code",
   "execution_count": 86,
   "metadata": {
    "tags": []
   },
   "outputs": [],
   "source": [
    "# Nasty function to plot predicted outcome versus actual (visualized)\n",
    "def pred_test(row):\n",
    "    fig, (ax1) = plt.subplots(ncols=1, figsize=(2, 2))\n",
    "    \n",
    "    # Initialize\n",
    "    global nested_list_test\n",
    "    nested_list_test = []\n",
    "    batch = []\n",
    "    j = 0\n",
    "    \n",
    "    # Run through the columns and store every batch of 28 numbers per row\n",
    "    for column in predictors_test.iloc[row,:]:\n",
    "        batch.append(column)\n",
    "        j += 1\n",
    "        if j == 28:\n",
    "            nested_list_test.append(batch)\n",
    "            j = 0\n",
    "            batch = []\n",
    "\n",
    "    \n",
    "    ax1.matshow(nested_list_test, interpolation=None, aspect='auto')\n",
    "    ax1.set_title('________________________\\n\\n Predicted number: ' + str(np.argmax(target_test_predicted[row])) + '\\n\\n Actual Number:')\n",
    "    plt.axis('off')\n",
    "    return nested_list_test"
   ]
  },
  {
   "cell_type": "code",
   "execution_count": 91,
   "metadata": {
    "tags": []
   },
   "outputs": [
    {
     "data": {
      "image/png": "[encoded data removed]",
      "text/plain": [
       "<Figure size 144x144 with 1 Axes>"
      ]
     },
     "metadata": {
      "needs_background": "light"
     },
     "output_type": "display_data"
    },
    {
     "data": {
      "image/png": "[encoded data removed]",
      "text/plain": [
       "<Figure size 144x144 with 1 Axes>"
      ]
     },
     "metadata": {
      "needs_background": "light"
     },
     "output_type": "display_data"
    },
    {
     "data": {
      "image/png": "[encoded data removed]",
      "text/plain": [
       "<Figure size 144x144 with 1 Axes>"
      ]
     },
     "metadata": {
      "needs_background": "light"
     },
     "output_type": "display_data"
    },
    {
     "data": {
      "image/png": "[encoded data removed]",
      "text/plain": [
       "<Figure size 144x144 with 1 Axes>"
      ]
     },
     "metadata": {
      "needs_background": "light"
     },
     "output_type": "display_data"
    },
    {
     "data": {
      "image/png": "[encoded data removed]",
      "text/plain": [
       "<Figure size 144x144 with 1 Axes>"
      ]
     },
     "metadata": {
      "needs_background": "light"
     },
     "output_type": "display_data"
    },
    {
     "data": {
      "image/png": "[encoded data removed]",
      "text/plain": [
       "<Figure size 144x144 with 1 Axes>"
      ]
     },
     "metadata": {
      "needs_background": "light"
     },
     "output_type": "display_data"
    },
    {
     "data": {
      "image/png": "[encoded data removed]",
      "text/plain": [
       "<Figure size 144x144 with 1 Axes>"
      ]
     },
     "metadata": {
      "needs_background": "light"
     },
     "output_type": "display_data"
    },
    {
     "data": {
      "image/png": "[encoded data removed]",
      "text/plain": [
       "<Figure size 144x144 with 1 Axes>"
      ]
     },
     "metadata": {
      "needs_background": "light"
     },
     "output_type": "display_data"
    },
    {
     "data": {
      "image/png": "[encoded data removed]",
      "text/plain": [
       "<Figure size 144x144 with 1 Axes>"
      ]
     },
     "metadata": {
      "needs_background": "light"
     },
     "output_type": "display_data"
    },
    {
     "data": {
      "image/png": "[encoded data removed]",
      "text/plain": [
       "<Figure size 144x144 with 1 Axes>"
      ]
     },
     "metadata": {
      "needs_background": "light"
     },
     "output_type": "display_data"
    }
   ],
   "source": [
    "# Testing 10 random columns\n",
    "y_pred_list = range(0, len(target_test_predicted))\n",
    "random.seed(2)\n",
    "for i in random.sample(y_pred_list, 10):\n",
    "    pred_test(i)"
   ]
  },
  {
   "cell_type": "code",
   "execution_count": null,
   "metadata": {},
   "outputs": [],
   "source": [
    "# Let's take one more look at the relations between labels with a Confusion Matrix\n",
    "y_pred_labels = [np.argmax(i) for i in y_pred]\n",
    "cm = tf.math.confusion_matrix(labels=y_test, predictions=y_pred_labels)"
   ]
  },
  {
   "cell_type": "markdown",
   "metadata": {},
   "source": [
    "____\n",
    "### Question 2: Please evaluate your model properly and interpret its performance"
   ]
  },
  {
   "cell_type": "code",
   "execution_count": 13,
   "metadata": {},
   "outputs": [],
   "source": [
    "# Function to compare performance of two models\n",
    "def model_compare_plot(model_1, model_2):\n",
    "    fig, axs = plt.subplots(2, 2, sharex=True, figsize=(10, 7))\n",
    "    axs[0, 0].plot(model_1.history['loss'], 'r', model_2.history['loss'], 'b')\n",
    "    axs[0, 0].set_title('Loss')\n",
    "    axs[0, 0].legend(('Model 1', 'Model 2'))\n",
    "    axs[0, 1].plot(model_1.history['accuracy'], 'r', model_2.history['accuracy'], 'b')\n",
    "    axs[0, 1].legend(('Model 1', 'Model 2'))\n",
    "    axs[0, 1].set_title('Accuracy')\n",
    "    axs[1, 0].plot(model_1.history['val_loss'], 'r', model_2.history['val_loss'], 'b')\n",
    "    axs[1, 0].set_title('Validation Loss')\n",
    "    axs[1, 0].legend(('Model 1', 'Model 2'))\n",
    "    axs[1, 1].plot(model_1.history['val_accuracy'], 'r', model_2.history['val_accuracy'], 'b')\n",
    "    axs[1, 1].set_title('Validation Accuracy')\n",
    "    axs[1, 1].legend(('Model 1', 'Model 2'))"
   ]
  },
  {
   "cell_type": "code",
   "execution_count": 14,
   "metadata": {},
   "outputs": [
    {
     "data": {
      "image/png": "[encoded data removed]",
      "text/plain": [
       "<Figure size 720x504 with 4 Axes>"
      ]
     },
     "metadata": {
      "needs_background": "light"
     },
     "output_type": "display_data"
    }
   ],
   "source": [
    "# Let's compare our models in terms of accuracy and loss in the training and test-data\n",
    "model_compare_plot(model_outcome, model_alt_outcome)"
   ]
  },
  {
   "cell_type": "markdown",
   "metadata": {},
   "source": [
    "Evaluation of the models:\n",
    "- Model 1 with less loss and higher accuracy compared to Model 2\n",
    "- Optimal epochs in regards to loss in the validation/test data seems to be around 10\n",
    "- Would love to compare a third Model with convulotional layers"
   ]
  },
  {
   "cell_type": "code",
   "execution_count": 96,
   "metadata": {},
   "outputs": [
    {
     "data": {
      "image/png": "[encoded data removed]",
      "text/plain": [
       "<Figure size 1800x504 with 2 Axes>"
      ]
     },
     "metadata": {
      "needs_background": "light"
     },
     "output_type": "display_data"
    }
   ],
   "source": [
    "# Prep confusion matrix\n",
    "y_pred_labels = [np.argmax(i) for i in target_test_predicted]\n",
    "cm = tf.math.confusion_matrix(labels=target_test, predictions=y_pred_labels)\n",
    "\n",
    "# Visualize confusion matrix\n",
    "plt.figure(figsize = (25,7))\n",
    "sns.heatmap(cm, annot=True, fmt='d', cmap=\"YlGn\")\n",
    "plt.xlabel('Predicted Labels')\n",
    "plt.ylabel('Actual Lables')\n",
    "plt.show()"
   ]
  },
  {
   "cell_type": "markdown",
   "metadata": {},
   "source": [
    "Few notes on the confusion matrix:\n",
    "- 4 often gets confused for the 9\n",
    "- 5 often gets confused for the 3"
   ]
  },
  {
   "cell_type": "markdown",
   "metadata": {},
   "source": [
    "____\n",
    "### Question 2: Submit your solution in a Jupyter notebook and a link to a GitHub repo where you have also uploaded your code"
   ]
  },
  {
   "cell_type": "code",
   "execution_count": 117,
   "metadata": {},
   "outputs": [],
   "source": [
    "# done"
   ]
  },
  {
   "cell_type": "markdown",
   "metadata": {},
   "source": [
    "_____________\n",
    "_____________\n",
    "### BACKUP"
   ]
  },
  {
   "cell_type": "code",
   "execution_count": 15,
   "metadata": {},
   "outputs": [],
   "source": [
    "# Let's save and reload the model\n",
    "model.save(\"model_handwriting_classification.h5\")\n",
    "my_model = load_model(\"model_handwriting_classification.h5\")\n",
    "\n",
    "# Let's now predict with the test-data\n",
    "predictions = my_model.predict(predictors_test)\n",
    "probability_true = predictions[:,1]"
   ]
  },
  {
   "cell_type": "code",
   "execution_count": 114,
   "metadata": {},
   "outputs": [],
   "source": [
    "def int2float_grey(x):\n",
    "    x = x / 255\n",
    "    return x"
   ]
  },
  {
   "cell_type": "code",
   "execution_count": 115,
   "metadata": {},
   "outputs": [],
   "source": [
    "y_train = np.array(df.iloc[:, 0])\n",
    "x_train = np.array(df.iloc[:, 1:])\n",
    "\n",
    "x_train = int2float_grey(x_train)\n",
    "\n",
    "\n",
    "y_train = keras.utils.to_categorical(y_train, num_classes=10)\n",
    "\n",
    "model_name = \"Kaggle-Import\"\n",
    "model_kaggle = Sequential()\n",
    "model_kaggle.add(Reshape(target_shape=(1, 28, 28), input_shape=(784,)))\n",
    "model_kaggle.add(Conv2D(kernel_size=(3, 3), filters=6, padding=\"same\", data_format=\"channels_first\", kernel_initializer=\"uniform\", use_bias=False))\n",
    "model_kaggle.add(MaxPooling2D(pool_size=(2, 2), data_format=\"channels_first\"))\n",
    "model_kaggle.add(Conv2D(kernel_size=(5, 5), filters=16, padding=\"same\", data_format=\"channels_first\", kernel_initializer=\"uniform\", use_bias=False))\n",
    "model_kaggle.add(MaxPooling2D(pool_size=(2, 2), data_format=\"channels_first\"))\n",
    "model_kaggle.add(Conv2D(kernel_size=(5, 5), filters=120, padding=\"same\", data_format=\"channels_first\", kernel_initializer=\"uniform\", use_bias=False))\n",
    "model_kaggle.add(Flatten())\n",
    "model_kaggle.add(Dense(120, activation='relu'))\n",
    "model_kaggle.add(Dense(120, activation='relu'))\n",
    "model_kaggle.add(Dense(10, activation='softmax'))"
   ]
  },
  {
   "cell_type": "code",
   "execution_count": 116,
   "metadata": {},
   "outputs": [
    {
     "name": "stdout",
     "output_type": "stream",
     "text": [
      "Epoch 1/30\n"
     ]
    },
    {
     "ename": "InvalidArgumentError",
     "evalue": " Default MaxPoolingOp only supports NHWC on device type CPU\n\t [[node sequential_13/max_pooling2d_17/MaxPool (defined at <ipython-input-116-cb93f18be3bf>:4) ]] [Op:__inference_train_function_308574]\n\nFunction call stack:\ntrain_function\n",
     "output_type": "error",
     "traceback": [
      "\u001b[1;31m---------------------------------------------------------------------------\u001b[0m",
      "\u001b[1;31mInvalidArgumentError\u001b[0m                      Traceback (most recent call last)",
      "\u001b[1;32m<ipython-input-116-cb93f18be3bf>\u001b[0m in \u001b[0;36m<module>\u001b[1;34m\u001b[0m\n\u001b[0;32m      2\u001b[0m \u001b[0mmodel_kaggle\u001b[0m\u001b[1;33m.\u001b[0m\u001b[0mcompile\u001b[0m\u001b[1;33m(\u001b[0m\u001b[0mloss\u001b[0m\u001b[1;33m=\u001b[0m\u001b[1;34m'categorical_crossentropy'\u001b[0m\u001b[1;33m,\u001b[0m \u001b[0moptimizer\u001b[0m\u001b[1;33m=\u001b[0m\u001b[0madam\u001b[0m\u001b[1;33m,\u001b[0m \u001b[0mmetrics\u001b[0m\u001b[1;33m=\u001b[0m\u001b[1;33m[\u001b[0m\u001b[1;34m'accuracy'\u001b[0m\u001b[1;33m]\u001b[0m\u001b[1;33m)\u001b[0m\u001b[1;33m\u001b[0m\u001b[1;33m\u001b[0m\u001b[0m\n\u001b[0;32m      3\u001b[0m \u001b[1;33m\u001b[0m\u001b[0m\n\u001b[1;32m----> 4\u001b[1;33m \u001b[0mmodel_kaggle_output\u001b[0m \u001b[1;33m=\u001b[0m \u001b[0mmodel_kaggle\u001b[0m\u001b[1;33m.\u001b[0m\u001b[0mfit\u001b[0m\u001b[1;33m(\u001b[0m\u001b[0mx_train\u001b[0m\u001b[1;33m,\u001b[0m \u001b[0my_train\u001b[0m\u001b[1;33m,\u001b[0m \u001b[0mepochs\u001b[0m\u001b[1;33m=\u001b[0m\u001b[1;36m30\u001b[0m\u001b[1;33m,\u001b[0m \u001b[0mbatch_size\u001b[0m\u001b[1;33m=\u001b[0m\u001b[1;36m64\u001b[0m\u001b[1;33m)\u001b[0m\u001b[1;33m\u001b[0m\u001b[1;33m\u001b[0m\u001b[0m\n\u001b[0m\u001b[0;32m      5\u001b[0m \u001b[0mmodel_kaggle_output\u001b[0m\u001b[1;33m\u001b[0m\u001b[1;33m\u001b[0m\u001b[0m\n",
      "\u001b[1;32m~\\Anaconda3\\envs\\DeepLearn\\lib\\site-packages\\tensorflow\\python\\keras\\engine\\training.py\u001b[0m in \u001b[0;36m_method_wrapper\u001b[1;34m(self, *args, **kwargs)\u001b[0m\n\u001b[0;32m    106\u001b[0m   \u001b[1;32mdef\u001b[0m \u001b[0m_method_wrapper\u001b[0m\u001b[1;33m(\u001b[0m\u001b[0mself\u001b[0m\u001b[1;33m,\u001b[0m \u001b[1;33m*\u001b[0m\u001b[0margs\u001b[0m\u001b[1;33m,\u001b[0m \u001b[1;33m**\u001b[0m\u001b[0mkwargs\u001b[0m\u001b[1;33m)\u001b[0m\u001b[1;33m:\u001b[0m\u001b[1;33m\u001b[0m\u001b[1;33m\u001b[0m\u001b[0m\n\u001b[0;32m    107\u001b[0m     \u001b[1;32mif\u001b[0m \u001b[1;32mnot\u001b[0m \u001b[0mself\u001b[0m\u001b[1;33m.\u001b[0m\u001b[0m_in_multi_worker_mode\u001b[0m\u001b[1;33m(\u001b[0m\u001b[1;33m)\u001b[0m\u001b[1;33m:\u001b[0m  \u001b[1;31m# pylint: disable=protected-access\u001b[0m\u001b[1;33m\u001b[0m\u001b[1;33m\u001b[0m\u001b[0m\n\u001b[1;32m--> 108\u001b[1;33m       \u001b[1;32mreturn\u001b[0m \u001b[0mmethod\u001b[0m\u001b[1;33m(\u001b[0m\u001b[0mself\u001b[0m\u001b[1;33m,\u001b[0m \u001b[1;33m*\u001b[0m\u001b[0margs\u001b[0m\u001b[1;33m,\u001b[0m \u001b[1;33m**\u001b[0m\u001b[0mkwargs\u001b[0m\u001b[1;33m)\u001b[0m\u001b[1;33m\u001b[0m\u001b[1;33m\u001b[0m\u001b[0m\n\u001b[0m\u001b[0;32m    109\u001b[0m \u001b[1;33m\u001b[0m\u001b[0m\n\u001b[0;32m    110\u001b[0m     \u001b[1;31m# Running inside `run_distribute_coordinator` already.\u001b[0m\u001b[1;33m\u001b[0m\u001b[1;33m\u001b[0m\u001b[1;33m\u001b[0m\u001b[0m\n",
      "\u001b[1;32m~\\Anaconda3\\envs\\DeepLearn\\lib\\site-packages\\tensorflow\\python\\keras\\engine\\training.py\u001b[0m in \u001b[0;36mfit\u001b[1;34m(self, x, y, batch_size, epochs, verbose, callbacks, validation_split, validation_data, shuffle, class_weight, sample_weight, initial_epoch, steps_per_epoch, validation_steps, validation_batch_size, validation_freq, max_queue_size, workers, use_multiprocessing)\u001b[0m\n\u001b[0;32m   1096\u001b[0m                 batch_size=batch_size):\n\u001b[0;32m   1097\u001b[0m               \u001b[0mcallbacks\u001b[0m\u001b[1;33m.\u001b[0m\u001b[0mon_train_batch_begin\u001b[0m\u001b[1;33m(\u001b[0m\u001b[0mstep\u001b[0m\u001b[1;33m)\u001b[0m\u001b[1;33m\u001b[0m\u001b[1;33m\u001b[0m\u001b[0m\n\u001b[1;32m-> 1098\u001b[1;33m               \u001b[0mtmp_logs\u001b[0m \u001b[1;33m=\u001b[0m \u001b[0mtrain_function\u001b[0m\u001b[1;33m(\u001b[0m\u001b[0miterator\u001b[0m\u001b[1;33m)\u001b[0m\u001b[1;33m\u001b[0m\u001b[1;33m\u001b[0m\u001b[0m\n\u001b[0m\u001b[0;32m   1099\u001b[0m               \u001b[1;32mif\u001b[0m \u001b[0mdata_handler\u001b[0m\u001b[1;33m.\u001b[0m\u001b[0mshould_sync\u001b[0m\u001b[1;33m:\u001b[0m\u001b[1;33m\u001b[0m\u001b[1;33m\u001b[0m\u001b[0m\n\u001b[0;32m   1100\u001b[0m                 \u001b[0mcontext\u001b[0m\u001b[1;33m.\u001b[0m\u001b[0masync_wait\u001b[0m\u001b[1;33m(\u001b[0m\u001b[1;33m)\u001b[0m\u001b[1;33m\u001b[0m\u001b[1;33m\u001b[0m\u001b[0m\n",
      "\u001b[1;32m~\\Anaconda3\\envs\\DeepLearn\\lib\\site-packages\\tensorflow\\python\\eager\\def_function.py\u001b[0m in \u001b[0;36m__call__\u001b[1;34m(self, *args, **kwds)\u001b[0m\n\u001b[0;32m    778\u001b[0m       \u001b[1;32melse\u001b[0m\u001b[1;33m:\u001b[0m\u001b[1;33m\u001b[0m\u001b[1;33m\u001b[0m\u001b[0m\n\u001b[0;32m    779\u001b[0m         \u001b[0mcompiler\u001b[0m \u001b[1;33m=\u001b[0m \u001b[1;34m\"nonXla\"\u001b[0m\u001b[1;33m\u001b[0m\u001b[1;33m\u001b[0m\u001b[0m\n\u001b[1;32m--> 780\u001b[1;33m         \u001b[0mresult\u001b[0m \u001b[1;33m=\u001b[0m \u001b[0mself\u001b[0m\u001b[1;33m.\u001b[0m\u001b[0m_call\u001b[0m\u001b[1;33m(\u001b[0m\u001b[1;33m*\u001b[0m\u001b[0margs\u001b[0m\u001b[1;33m,\u001b[0m \u001b[1;33m**\u001b[0m\u001b[0mkwds\u001b[0m\u001b[1;33m)\u001b[0m\u001b[1;33m\u001b[0m\u001b[1;33m\u001b[0m\u001b[0m\n\u001b[0m\u001b[0;32m    781\u001b[0m \u001b[1;33m\u001b[0m\u001b[0m\n\u001b[0;32m    782\u001b[0m       \u001b[0mnew_tracing_count\u001b[0m \u001b[1;33m=\u001b[0m \u001b[0mself\u001b[0m\u001b[1;33m.\u001b[0m\u001b[0m_get_tracing_count\u001b[0m\u001b[1;33m(\u001b[0m\u001b[1;33m)\u001b[0m\u001b[1;33m\u001b[0m\u001b[1;33m\u001b[0m\u001b[0m\n",
      "\u001b[1;32m~\\Anaconda3\\envs\\DeepLearn\\lib\\site-packages\\tensorflow\\python\\eager\\def_function.py\u001b[0m in \u001b[0;36m_call\u001b[1;34m(self, *args, **kwds)\u001b[0m\n\u001b[0;32m    838\u001b[0m         \u001b[1;31m# Lifting succeeded, so variables are initialized and we can run the\u001b[0m\u001b[1;33m\u001b[0m\u001b[1;33m\u001b[0m\u001b[1;33m\u001b[0m\u001b[0m\n\u001b[0;32m    839\u001b[0m         \u001b[1;31m# stateless function.\u001b[0m\u001b[1;33m\u001b[0m\u001b[1;33m\u001b[0m\u001b[1;33m\u001b[0m\u001b[0m\n\u001b[1;32m--> 840\u001b[1;33m         \u001b[1;32mreturn\u001b[0m \u001b[0mself\u001b[0m\u001b[1;33m.\u001b[0m\u001b[0m_stateless_fn\u001b[0m\u001b[1;33m(\u001b[0m\u001b[1;33m*\u001b[0m\u001b[0margs\u001b[0m\u001b[1;33m,\u001b[0m \u001b[1;33m**\u001b[0m\u001b[0mkwds\u001b[0m\u001b[1;33m)\u001b[0m\u001b[1;33m\u001b[0m\u001b[1;33m\u001b[0m\u001b[0m\n\u001b[0m\u001b[0;32m    841\u001b[0m     \u001b[1;32melse\u001b[0m\u001b[1;33m:\u001b[0m\u001b[1;33m\u001b[0m\u001b[1;33m\u001b[0m\u001b[0m\n\u001b[0;32m    842\u001b[0m       \u001b[0mcanon_args\u001b[0m\u001b[1;33m,\u001b[0m \u001b[0mcanon_kwds\u001b[0m \u001b[1;33m=\u001b[0m\u001b[0;31m \u001b[0m\u001b[0;31m\\\u001b[0m\u001b[1;33m\u001b[0m\u001b[1;33m\u001b[0m\u001b[0m\n",
      "\u001b[1;32m~\\Anaconda3\\envs\\DeepLearn\\lib\\site-packages\\tensorflow\\python\\eager\\function.py\u001b[0m in \u001b[0;36m__call__\u001b[1;34m(self, *args, **kwargs)\u001b[0m\n\u001b[0;32m   2827\u001b[0m     \u001b[1;32mwith\u001b[0m \u001b[0mself\u001b[0m\u001b[1;33m.\u001b[0m\u001b[0m_lock\u001b[0m\u001b[1;33m:\u001b[0m\u001b[1;33m\u001b[0m\u001b[1;33m\u001b[0m\u001b[0m\n\u001b[0;32m   2828\u001b[0m       \u001b[0mgraph_function\u001b[0m\u001b[1;33m,\u001b[0m \u001b[0margs\u001b[0m\u001b[1;33m,\u001b[0m \u001b[0mkwargs\u001b[0m \u001b[1;33m=\u001b[0m \u001b[0mself\u001b[0m\u001b[1;33m.\u001b[0m\u001b[0m_maybe_define_function\u001b[0m\u001b[1;33m(\u001b[0m\u001b[0margs\u001b[0m\u001b[1;33m,\u001b[0m \u001b[0mkwargs\u001b[0m\u001b[1;33m)\u001b[0m\u001b[1;33m\u001b[0m\u001b[1;33m\u001b[0m\u001b[0m\n\u001b[1;32m-> 2829\u001b[1;33m     \u001b[1;32mreturn\u001b[0m \u001b[0mgraph_function\u001b[0m\u001b[1;33m.\u001b[0m\u001b[0m_filtered_call\u001b[0m\u001b[1;33m(\u001b[0m\u001b[0margs\u001b[0m\u001b[1;33m,\u001b[0m \u001b[0mkwargs\u001b[0m\u001b[1;33m)\u001b[0m  \u001b[1;31m# pylint: disable=protected-access\u001b[0m\u001b[1;33m\u001b[0m\u001b[1;33m\u001b[0m\u001b[0m\n\u001b[0m\u001b[0;32m   2830\u001b[0m \u001b[1;33m\u001b[0m\u001b[0m\n\u001b[0;32m   2831\u001b[0m   \u001b[1;33m@\u001b[0m\u001b[0mproperty\u001b[0m\u001b[1;33m\u001b[0m\u001b[1;33m\u001b[0m\u001b[0m\n",
      "\u001b[1;32m~\\Anaconda3\\envs\\DeepLearn\\lib\\site-packages\\tensorflow\\python\\eager\\function.py\u001b[0m in \u001b[0;36m_filtered_call\u001b[1;34m(self, args, kwargs, cancellation_manager)\u001b[0m\n\u001b[0;32m   1841\u001b[0m       \u001b[0;31m`\u001b[0m\u001b[0margs\u001b[0m\u001b[0;31m`\u001b[0m \u001b[1;32mand\u001b[0m\u001b[0;31m \u001b[0m\u001b[0;31m`\u001b[0m\u001b[0mkwargs\u001b[0m\u001b[0;31m`\u001b[0m\u001b[1;33m.\u001b[0m\u001b[1;33m\u001b[0m\u001b[1;33m\u001b[0m\u001b[0m\n\u001b[0;32m   1842\u001b[0m     \"\"\"\n\u001b[1;32m-> 1843\u001b[1;33m     return self._call_flat(\n\u001b[0m\u001b[0;32m   1844\u001b[0m         [t for t in nest.flatten((args, kwargs), expand_composites=True)\n\u001b[0;32m   1845\u001b[0m          if isinstance(t, (ops.Tensor,\n",
      "\u001b[1;32m~\\Anaconda3\\envs\\DeepLearn\\lib\\site-packages\\tensorflow\\python\\eager\\function.py\u001b[0m in \u001b[0;36m_call_flat\u001b[1;34m(self, args, captured_inputs, cancellation_manager)\u001b[0m\n\u001b[0;32m   1921\u001b[0m         and executing_eagerly):\n\u001b[0;32m   1922\u001b[0m       \u001b[1;31m# No tape is watching; skip to running the function.\u001b[0m\u001b[1;33m\u001b[0m\u001b[1;33m\u001b[0m\u001b[1;33m\u001b[0m\u001b[0m\n\u001b[1;32m-> 1923\u001b[1;33m       return self._build_call_outputs(self._inference_function.call(\n\u001b[0m\u001b[0;32m   1924\u001b[0m           ctx, args, cancellation_manager=cancellation_manager))\n\u001b[0;32m   1925\u001b[0m     forward_backward = self._select_forward_and_backward_functions(\n",
      "\u001b[1;32m~\\Anaconda3\\envs\\DeepLearn\\lib\\site-packages\\tensorflow\\python\\eager\\function.py\u001b[0m in \u001b[0;36mcall\u001b[1;34m(self, ctx, args, cancellation_manager)\u001b[0m\n\u001b[0;32m    543\u001b[0m       \u001b[1;32mwith\u001b[0m \u001b[0m_InterpolateFunctionError\u001b[0m\u001b[1;33m(\u001b[0m\u001b[0mself\u001b[0m\u001b[1;33m)\u001b[0m\u001b[1;33m:\u001b[0m\u001b[1;33m\u001b[0m\u001b[1;33m\u001b[0m\u001b[0m\n\u001b[0;32m    544\u001b[0m         \u001b[1;32mif\u001b[0m \u001b[0mcancellation_manager\u001b[0m \u001b[1;32mis\u001b[0m \u001b[1;32mNone\u001b[0m\u001b[1;33m:\u001b[0m\u001b[1;33m\u001b[0m\u001b[1;33m\u001b[0m\u001b[0m\n\u001b[1;32m--> 545\u001b[1;33m           outputs = execute.execute(\n\u001b[0m\u001b[0;32m    546\u001b[0m               \u001b[0mstr\u001b[0m\u001b[1;33m(\u001b[0m\u001b[0mself\u001b[0m\u001b[1;33m.\u001b[0m\u001b[0msignature\u001b[0m\u001b[1;33m.\u001b[0m\u001b[0mname\u001b[0m\u001b[1;33m)\u001b[0m\u001b[1;33m,\u001b[0m\u001b[1;33m\u001b[0m\u001b[1;33m\u001b[0m\u001b[0m\n\u001b[0;32m    547\u001b[0m               \u001b[0mnum_outputs\u001b[0m\u001b[1;33m=\u001b[0m\u001b[0mself\u001b[0m\u001b[1;33m.\u001b[0m\u001b[0m_num_outputs\u001b[0m\u001b[1;33m,\u001b[0m\u001b[1;33m\u001b[0m\u001b[1;33m\u001b[0m\u001b[0m\n",
      "\u001b[1;32m~\\Anaconda3\\envs\\DeepLearn\\lib\\site-packages\\tensorflow\\python\\eager\\execute.py\u001b[0m in \u001b[0;36mquick_execute\u001b[1;34m(op_name, num_outputs, inputs, attrs, ctx, name)\u001b[0m\n\u001b[0;32m     57\u001b[0m   \u001b[1;32mtry\u001b[0m\u001b[1;33m:\u001b[0m\u001b[1;33m\u001b[0m\u001b[1;33m\u001b[0m\u001b[0m\n\u001b[0;32m     58\u001b[0m     \u001b[0mctx\u001b[0m\u001b[1;33m.\u001b[0m\u001b[0mensure_initialized\u001b[0m\u001b[1;33m(\u001b[0m\u001b[1;33m)\u001b[0m\u001b[1;33m\u001b[0m\u001b[1;33m\u001b[0m\u001b[0m\n\u001b[1;32m---> 59\u001b[1;33m     tensors = pywrap_tfe.TFE_Py_Execute(ctx._handle, device_name, op_name,\n\u001b[0m\u001b[0;32m     60\u001b[0m                                         inputs, attrs, num_outputs)\n\u001b[0;32m     61\u001b[0m   \u001b[1;32mexcept\u001b[0m \u001b[0mcore\u001b[0m\u001b[1;33m.\u001b[0m\u001b[0m_NotOkStatusException\u001b[0m \u001b[1;32mas\u001b[0m \u001b[0me\u001b[0m\u001b[1;33m:\u001b[0m\u001b[1;33m\u001b[0m\u001b[1;33m\u001b[0m\u001b[0m\n",
      "\u001b[1;31mInvalidArgumentError\u001b[0m:  Default MaxPoolingOp only supports NHWC on device type CPU\n\t [[node sequential_13/max_pooling2d_17/MaxPool (defined at <ipython-input-116-cb93f18be3bf>:4) ]] [Op:__inference_train_function_308574]\n\nFunction call stack:\ntrain_function\n"
     ]
    }
   ],
   "source": [
    "adam = keras.optimizers.Adam(lr=0.0005, beta_1=0.9, beta_2=0.999, epsilon=1e-08)\n",
    "model_kaggle.compile(loss='categorical_crossentropy', optimizer=adam, metrics=['accuracy'])\n",
    "\n",
    "model_kaggle_output = model_kaggle.fit(x_train, y_train, epochs=30, batch_size=64)\n",
    "model_kaggle_output"
   ]
  },
  {
   "cell_type": "code",
   "execution_count": null,
   "metadata": {},
   "outputs": [],
   "source": []
  }
 ],
 "metadata": {
  "kernelspec": {
   "display_name": "Python 3",
   "language": "python",
   "name": "python3"
  },
  "language_info": {
   "codemirror_mode": {
    "name": "ipython",
    "version": 3
   },
   "file_extension": ".py",
   "mimetype": "text/x-python",
   "name": "python",
   "nbconvert_exporter": "python",
   "pygments_lexer": "ipython3",
   "version": "3.8.10"
  }
 },
 "nbformat": 4,
 "nbformat_minor": 4
}
